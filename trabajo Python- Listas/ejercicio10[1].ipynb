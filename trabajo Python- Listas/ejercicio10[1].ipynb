{
  "cells": [
    {
      "cell_type": "markdown",
      "metadata": {
        "id": "-cd7R9cE2-6G"
      },
      "source": [
        "## Ejercicio\n",
        "\n",
        "Escribir un programa que almacene en una lista los siguientes precios, 50, 75, 46, 22, 80, 65, 8, y muestre por pantalla el menor y el mayor de los precios."
      ]
    },
    {
      "cell_type": "markdown",
      "metadata": {
        "id": "FOD9AY762-6I"
      },
      "source": [
        "## Solución"
      ]
    },
    {
      "cell_type": "code",
      "execution_count": 4,
      "metadata": {
        "id": "NCZo5m5p2-6J"
      },
      "outputs": [
        {
          "name": "stdout",
          "output_type": "stream",
          "text": [
            "el precio mneor es:  8\n",
            "el precio mayo es:  80\n"
          ]
        }
      ],
      "source": [
        "prices = [50, 75, 46, 22, 80, 65, 8]\n",
        "\n",
        "Menor =min(prices)\n",
        "mayor =max(prices)\n",
        "print(\"el precio mneor es: \", Menor)\n",
        "print(\"el precio mayo es: \", mayor)"
      ]
    }
  ],
  "metadata": {
    "colab": {
      "provenance": []
    },
    "kernelspec": {
      "display_name": "Python 3",
      "language": "python",
      "name": "python3"
    },
    "language_info": {
      "codemirror_mode": {
        "name": "ipython",
        "version": 3
      },
      "file_extension": ".py",
      "mimetype": "text/x-python",
      "name": "python",
      "nbconvert_exporter": "python",
      "pygments_lexer": "ipython3",
      "version": "3.13.7"
    }
  },
  "nbformat": 4,
  "nbformat_minor": 0
}
