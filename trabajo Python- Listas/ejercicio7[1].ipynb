{
  "cells": [
    {
      "cell_type": "markdown",
      "metadata": {
        "id": "e2lNyfJd2hnr"
      },
      "source": [
        "## Ejercicio\n",
        "\n",
        "Escribir un programa que almacene el abecedario en una lista, elimine de la lista las letras que ocupen posiciones múltiplos de 3, y muestre por pantalla la lista resultante."
      ]
    },
    {
      "cell_type": "markdown",
      "metadata": {
        "id": "E2t3Ijd52hnt"
      },
      "source": [
        "## Solución 1"
      ]
    },
    {
      "cell_type": "code",
      "execution_count": 3,
      "metadata": {
        "id": "ctEUvrHZ2hnt"
      },
      "outputs": [
        {
          "name": "stdout",
          "output_type": "stream",
          "text": [
            "['b']\n",
            "['b', 'c']\n",
            "['b', 'c', 'e']\n",
            "['b', 'c', 'e', 'f']\n",
            "['b', 'c', 'e', 'f', 'h']\n",
            "['b', 'c', 'e', 'f', 'h', 'i']\n",
            "['b', 'c', 'e', 'f', 'h', 'i', 'k']\n",
            "['b', 'c', 'e', 'f', 'h', 'i', 'k', 'l']\n",
            "['b', 'c', 'e', 'f', 'h', 'i', 'k', 'l', 'n']\n",
            "['b', 'c', 'e', 'f', 'h', 'i', 'k', 'l', 'n', 'ñ']\n",
            "['b', 'c', 'e', 'f', 'h', 'i', 'k', 'l', 'n', 'ñ', 'p']\n",
            "['b', 'c', 'e', 'f', 'h', 'i', 'k', 'l', 'n', 'ñ', 'p', 'q']\n",
            "['b', 'c', 'e', 'f', 'h', 'i', 'k', 'l', 'n', 'ñ', 'p', 'q', 's']\n",
            "['b', 'c', 'e', 'f', 'h', 'i', 'k', 'l', 'n', 'ñ', 'p', 'q', 's', 't']\n",
            "['b', 'c', 'e', 'f', 'h', 'i', 'k', 'l', 'n', 'ñ', 'p', 'q', 's', 't', 'v']\n",
            "['b', 'c', 'e', 'f', 'h', 'i', 'k', 'l', 'n', 'ñ', 'p', 'q', 's', 't', 'v', 'w']\n",
            "['b', 'c', 'e', 'f', 'h', 'i', 'k', 'l', 'n', 'ñ', 'p', 'q', 's', 't', 'v', 'w', 'y']\n",
            "['b', 'c', 'e', 'f', 'h', 'i', 'k', 'l', 'n', 'ñ', 'p', 'q', 's', 't', 'v', 'w', 'y', 'z']\n"
          ]
        }
      ],
      "source": [
        "alphabet = ['a', 'b', 'c', 'd', 'e', 'f', 'g', 'h', 'i', 'j', 'k', 'l', 'm', 'n', 'ñ', 'o', 'p', 'q', 'r', 's', 't', 'u', 'v', 'w', 'x', 'y', 'z']\n",
        "alpsinmul3 = []\n",
        "\n",
        "for l in alphabet:\n",
        "    posicion = alphabet.index(l)\n",
        "    if posicion % 3 != 0:\n",
        "        alpsinmul3.append(alphabet[posicion])\n",
        "        print(alpsinmul3)"
      ]
    },
    {
      "cell_type": "markdown",
      "metadata": {
        "id": "VRjEsFgd2hnv"
      },
      "source": [
        "## Solución 2"
      ]
    },
    {
      "cell_type": "code",
      "execution_count": null,
      "metadata": {
        "id": "EYFYFbCi2hnw"
      },
      "outputs": [],
      "source": [
        "alphabet = ['a', 'b', 'c', 'd', 'e', 'f', 'g', 'h', 'i', 'j', 'k', 'l', 'm', 'n', 'ñ', 'o', 'p', 'q', 'r', 's', 't', 'u', 'v', 'w', 'x', 'y', 'z']\n"
      ]
    }
  ],
  "metadata": {
    "colab": {
      "provenance": []
    },
    "kernelspec": {
      "display_name": "Python 3",
      "language": "python",
      "name": "python3"
    },
    "language_info": {
      "codemirror_mode": {
        "name": "ipython",
        "version": 3
      },
      "file_extension": ".py",
      "mimetype": "text/x-python",
      "name": "python",
      "nbconvert_exporter": "python",
      "pygments_lexer": "ipython3",
      "version": "3.13.7"
    }
  },
  "nbformat": 4,
  "nbformat_minor": 0
}
