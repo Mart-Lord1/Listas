{
  "cells": [
    {
      "cell_type": "markdown",
      "metadata": {
        "id": "SLY0PDmP3mKf"
      },
      "source": [
        "## Ejercicio\n",
        "\n",
        "Escribir un programa que pregunte por una muestra de números, separados por comas, los guarde en una tupla y muestre por pantalla su media y desviación típica."
      ]
    },
    {
      "cell_type": "markdown",
      "metadata": {
        "id": "v3IuljFH3mKh"
      },
      "source": [
        "## Solución"
      ]
    },
    {
      "cell_type": "code",
      "execution_count": null,
      "metadata": {
        "id": "qHS3r-Q23mKh"
      },
      "outputs": [
        {
          "name": "stdout",
          "output_type": "stream",
          "text": [
            "la media es:  6.166666666666667\n",
            "su desviación es:  2.793842435706702\n"
          ]
        }
      ],
      "source": [
        "sample = tuple(float(x) for x in input(\"Introduce una muestra de números separados por comas: \").split(','))\n",
        "\n",
        "n = len(sample)\n",
        "media = sum(sample) / len(sample)\n",
        "desviación = (sum((x - media)** 2 for x in sample) / len(sample)) ** 0.5\n",
        "\n",
        "print(\"la media es: \", media)\n",
        "print(\"su desviación es: \", desviación)"
      ]
    }
  ],
  "metadata": {
    "colab": {
      "provenance": []
    },
    "kernelspec": {
      "display_name": "Python 3",
      "language": "python",
      "name": "python3"
    },
    "language_info": {
      "codemirror_mode": {
        "name": "ipython",
        "version": 3
      },
      "file_extension": ".py",
      "mimetype": "text/x-python",
      "name": "python",
      "nbconvert_exporter": "python",
      "pygments_lexer": "ipython3",
      "version": "3.13.7"
    }
  },
  "nbformat": 4,
  "nbformat_minor": 0
}
