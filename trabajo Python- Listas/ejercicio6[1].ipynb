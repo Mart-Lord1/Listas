{
  "cells": [
    {
      "cell_type": "markdown",
      "metadata": {
        "id": "cEzbMR582OaU"
      },
      "source": [
        "## Ejercicio\n",
        "\n",
        "Escribir un programa que almacene las asignaturas de un curso (por ejemplo Matemáticas, Física, Química, Historia y Lengua) en una lista, pregunte al usuario la nota que ha sacado en cada asignatura y elimine de la lista las asignaturas aprobadas. Al final el programa debe mostrar por pantalla las asignaturas que el usuario tiene que repetir."
      ]
    },
    {
      "cell_type": "markdown",
      "metadata": {
        "id": "7bz_qk_Y2OaW"
      },
      "source": [
        "## Solución 1"
      ]
    },
    {
      "cell_type": "code",
      "execution_count": 20,
      "metadata": {
        "id": "2en5hKcz2OaW"
      },
      "outputs": [
        {
          "name": "stdout",
          "output_type": "stream",
          "text": [
            "debes repetir:  ['Lengua'] 3.0\n"
          ]
        }
      ],
      "source": [
        "lista_asignaturas =  [\"Matemáticas\", \"Física\", \"Química\", \"Historia\", \"Lengua\"]\n",
        "\n",
        "desaprobadas = []\n",
        "notas = []\n",
        "\n",
        "#pregunta al usuario la nora en cada asignatura\n",
        "for asignatura in lista_asignaturas:\n",
        "    nota = float(input(f\"Ingrese la nota de {asignatura}: \"))\n",
        "    notas.append(nota)\n",
        "#eliminar las aprobadas\n",
        "for i in range(len(lista_asignaturas)):\n",
        "    if notas[i] < 6:\n",
        "        desaprobadas.append(lista_asignaturas[i])\n",
        "#mostrar las desaprobadas, es decir las que debe repetir\n",
        "print(\"debes repetir: \", desaprobadas, nota)"
      ]
    },
    {
      "cell_type": "markdown",
      "metadata": {
        "id": "wQmuaOq52OaX"
      },
      "source": [
        "## Solución 2"
      ]
    },
    {
      "cell_type": "code",
      "execution_count": null,
      "metadata": {
        "id": "SEi3_nLL2OaY"
      },
      "outputs": [],
      "source": []
    }
  ],
  "metadata": {
    "colab": {
      "provenance": []
    },
    "kernelspec": {
      "display_name": "Python 3",
      "language": "python",
      "name": "python3"
    },
    "language_info": {
      "codemirror_mode": {
        "name": "ipython",
        "version": 3
      },
      "file_extension": ".py",
      "mimetype": "text/x-python",
      "name": "python",
      "nbconvert_exporter": "python",
      "pygments_lexer": "ipython3",
      "version": "3.13.7"
    }
  },
  "nbformat": 4,
  "nbformat_minor": 0
}
