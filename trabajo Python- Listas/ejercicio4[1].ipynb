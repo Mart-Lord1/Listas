{
  "cells": [
    {
      "cell_type": "markdown",
      "metadata": {
        "id": "F8Y-HsdD13rq"
      },
      "source": [
        "## Ejercicio\n",
        "\n",
        "Escribir un programa que pregunte al usuario los números ganadores de la lotería primitiva, los almacene en una lista y los muestre por pantalla ordenados de menor a mayor."
      ]
    },
    {
      "cell_type": "markdown",
      "metadata": {
        "id": "yBtykLSX13rs"
      },
      "source": [
        "## Solución 1"
      ]
    },
    {
      "cell_type": "code",
      "execution_count": 1,
      "metadata": {
        "id": "_-ml5x9p13rs"
      },
      "outputs": [
        {
          "name": "stdout",
          "output_type": "stream",
          "text": [
            "Números ganadores ordenados: [2, 5, 7, 10]\n"
          ]
        }
      ],
      "source": [
        "entrada = input(\"Ingrese los números ganadores separados por espacios: \")\n",
        "Numerosganadores = [int(num) for num in entrada.split()] #convierte cada uno a entero, .split() los separa por espacios, \n",
        "\n",
        "Numerosganadores.sort()\n",
        "\n",
        "print(\"Números ganadores ordenados:\", str(Numerosganadores))"
      ]
    }
  ],
  "metadata": {
    "colab": {
      "provenance": []
    },
    "kernelspec": {
      "display_name": "Python 3",
      "language": "python",
      "name": "python3"
    },
    "language_info": {
      "codemirror_mode": {
        "name": "ipython",
        "version": 3
      },
      "file_extension": ".py",
      "mimetype": "text/x-python",
      "name": "python",
      "nbconvert_exporter": "python",
      "pygments_lexer": "ipython3",
      "version": "3.13.7"
    }
  },
  "nbformat": 4,
  "nbformat_minor": 0
}
