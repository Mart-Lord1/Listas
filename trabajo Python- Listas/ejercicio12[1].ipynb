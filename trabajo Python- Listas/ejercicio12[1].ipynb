{
  "cells": [
    {
      "cell_type": "markdown",
      "metadata": {
        "id": "NH2hKTsR3cw2"
      },
      "source": [
        "## Ejercicio\n",
        "\n",
        "Escribir un programa que almacene las matrices\n",
        "\n",
        "$$\n",
        "A = \\left(\n",
        "  \\begin{array}{rrr}\n",
        "  1 & 2 & 3\\\\\n",
        "  4 & 5 & 6\n",
        "  \\end{array}\n",
        "  \\right)\n",
        "  \\quad  y\n",
        "  \\quad\n",
        "  B = \\left(\n",
        "  \\begin{array}{rr}\n",
        "  -1 & 0\\\\\n",
        "  0 & 1\\\\\n",
        "  1 & 1\n",
        "  \\end{array}\n",
        "  \\right)\n",
        "$$\n",
        "\n",
        "en una tupla y muestre por pantalla su producto.  \n",
        "Nota: Para representar matrices mediante tuplas usar tuplas anidadas, representando cada vector fila en una tupla."
      ]
    },
    {
      "cell_type": "markdown",
      "metadata": {
        "id": "VTwI-qHW3cw4"
      },
      "source": [
        "## Solución"
      ]
    },
    {
      "cell_type": "code",
      "execution_count": null,
      "metadata": {
        "id": "VGNNVFG_3cw5"
      },
      "outputs": [
        {
          "name": "stdout",
          "output_type": "stream",
          "text": [
            "[[2, 5], [2, 11]]\n"
          ]
        }
      ],
      "source": [
        "a = ((1, 2, 3),\n",
        "     (4, 5, 6))\n",
        "b = ((-1, 0),\n",
        "     (0, 1),\n",
        "     (1,1))\n",
        "result = [\n",
        "     [1*(-1) + 2*0 + 3*1, 1*0 + 2*1 + 3*1],\n",
        "     [4*(-1) + 5*0 + 6*1, 4*0 + 5*1 + 6*1]\n",
        "]\n",
        "print(result)\n",
        "\n",
        "\n"
      ]
    }
  ],
  "metadata": {
    "colab": {
      "provenance": []
    },
    "kernelspec": {
      "display_name": "Python 3",
      "language": "python",
      "name": "python3"
    },
    "language_info": {
      "codemirror_mode": {
        "name": "ipython",
        "version": 3
      },
      "file_extension": ".py",
      "mimetype": "text/x-python",
      "name": "python",
      "nbconvert_exporter": "python",
      "pygments_lexer": "ipython3",
      "version": "3.13.7"
    }
  },
  "nbformat": 4,
  "nbformat_minor": 0
}
