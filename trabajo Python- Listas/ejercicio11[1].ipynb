{
  "cells": [
    {
      "cell_type": "markdown",
      "metadata": {
        "id": "QcOkZZn33K6U"
      },
      "source": [
        "## Ejercicio\n",
        "\n",
        "Escribir un programa que almacene los vectores (1,2,3) y (-1,0,2) en dos tuplas y muestre por pantalla su producto escalar."
      ]
    },
    {
      "cell_type": "markdown",
      "metadata": {
        "id": "-byeZMO83K6W"
      },
      "source": [
        "## Solución"
      ]
    },
    {
      "cell_type": "code",
      "execution_count": null,
      "metadata": {
        "id": "AfjIAhC33K6X"
      },
      "outputs": [
        {
          "name": "stdout",
          "output_type": "stream",
          "text": [
            "5\n"
          ]
        }
      ],
      "source": [
        "a = (1, 2, 3)\n",
        "b = (-1, 0, 2)\n",
        "producto = sum(a * b for a, b in zip(a, b))\n",
        "# zip(a, b) empareja los elementos\n",
        "# El generador a * b for a, b in zip(a, b) calcula\n",
        "# sum(...) suma los productos\n",
        "print(producto)\n"
      ]
    }
  ],
  "metadata": {
    "colab": {
      "provenance": []
    },
    "kernelspec": {
      "display_name": "Python 3",
      "language": "python",
      "name": "python3"
    },
    "language_info": {
      "codemirror_mode": {
        "name": "ipython",
        "version": 3
      },
      "file_extension": ".py",
      "mimetype": "text/x-python",
      "name": "python",
      "nbconvert_exporter": "python",
      "pygments_lexer": "ipython3",
      "version": "3.13.7"
    }
  },
  "nbformat": 4,
  "nbformat_minor": 0
}
