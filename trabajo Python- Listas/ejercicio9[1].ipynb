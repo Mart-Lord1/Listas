{
  "cells": [
    {
      "cell_type": "markdown",
      "metadata": {
        "id": "_GCLGfIC20nS"
      },
      "source": [
        "## Ejercicio\n",
        "\n",
        "Escribir un programa que pida al usuario una palabra y muestre por pantalla el número de veces que contiene cada vocal."
      ]
    },
    {
      "cell_type": "markdown",
      "metadata": {
        "id": "4ciBAkRN20nT"
      },
      "source": [
        "## Solución"
      ]
    },
    {
      "cell_type": "code",
      "execution_count": 6,
      "metadata": {
        "id": "oMSeUR_r20nU"
      },
      "outputs": [
        {
          "name": "stdout",
          "output_type": "stream",
          "text": [
            "La vocal 'a' aparece 1 veces en la palabra introducida\n",
            "La vocal 'e' aparece 1 veces en la palabra introducida\n",
            "La vocal 'i' aparece 1 veces en la palabra introducida\n",
            "La vocal 'o' aparece 1 veces en la palabra introducida\n",
            "La vocal 'u' aparece 1 veces en la palabra introducida\n"
          ]
        }
      ],
      "source": [
        "word = input(\"Introduce una palabra: \")\n",
        "vocals = ['a', 'e', 'i', 'o', 'u']\n",
        "for vocal in vocals:\n",
        "    cantidad = word.count(vocal)\n",
        "    print(f\"La vocal '{vocal}' aparece {cantidad} veces en la palabra introducida\")\n"
      ]
    }
  ],
  "metadata": {
    "colab": {
      "provenance": []
    },
    "kernelspec": {
      "display_name": "Python 3",
      "language": "python",
      "name": "python3"
    },
    "language_info": {
      "codemirror_mode": {
        "name": "ipython",
        "version": 3
      },
      "file_extension": ".py",
      "mimetype": "text/x-python",
      "name": "python",
      "nbconvert_exporter": "python",
      "pygments_lexer": "ipython3",
      "version": "3.13.7"
    }
  },
  "nbformat": 4,
  "nbformat_minor": 0
}
