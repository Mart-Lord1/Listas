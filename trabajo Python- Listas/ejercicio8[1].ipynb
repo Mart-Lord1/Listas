{
  "cells": [
    {
      "cell_type": "markdown",
      "metadata": {
        "id": "IoUjUGgm2tCp"
      },
      "source": [
        "## Ejercicio\n",
        "\n",
        "Escribir un programa que pida al usuario una palabra y muestre por pantalla si es un palíndromo."
      ]
    },
    {
      "cell_type": "markdown",
      "metadata": {
        "id": "YTFoI17U2tCq"
      },
      "source": [
        "## Solución"
      ]
    },
    {
      "cell_type": "code",
      "execution_count": null,
      "metadata": {
        "id": "BUXJtmAf2tCr"
      },
      "outputs": [
        {
          "name": "stdout",
          "output_type": "stream",
          "text": [
            "La palabra {palabra} si es un palindromo\n"
          ]
        }
      ],
      "source": [
        "palabra= input(\"ingrese una palabra: \")\n",
        "\n",
        "if palabra == palabra[::-1]:\n",
        "    print(\"La palabra si es un palindromo\")\n",
        "else:\n",
        "    print(\"no lo es\")"
      ]
    }
  ],
  "metadata": {
    "colab": {
      "provenance": []
    },
    "kernelspec": {
      "display_name": "Python 3",
      "language": "python",
      "name": "python3"
    },
    "language_info": {
      "codemirror_mode": {
        "name": "ipython",
        "version": 3
      },
      "file_extension": ".py",
      "mimetype": "text/x-python",
      "name": "python",
      "nbconvert_exporter": "python",
      "pygments_lexer": "ipython3",
      "version": "3.13.7"
    }
  },
  "nbformat": 4,
  "nbformat_minor": 0
}
